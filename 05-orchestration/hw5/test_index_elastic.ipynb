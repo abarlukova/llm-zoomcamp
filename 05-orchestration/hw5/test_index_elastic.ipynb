{
 "cells": [
  {
   "cell_type": "code",
   "execution_count": 1,
   "id": "9f9673eb-e15e-4683-b475-af02fd4ba11d",
   "metadata": {},
   "outputs": [],
   "source": [
    "query = \"When is the next cohort?\""
   ]
  },
  {
   "cell_type": "code",
   "execution_count": 2,
   "id": "58ea696f-6a08-4256-adab-1609a9be20ba",
   "metadata": {},
   "outputs": [],
   "source": [
    "from elasticsearch import Elasticsearch\n",
    "es_client = Elasticsearch('http://127.0.0.1:9200')\n",
    "index_settings = {\n",
    "    \"settings\": {\n",
    "        \"number_of_shards\": 1,\n",
    "        \"number_of_replicas\": 0\n",
    "    },\n",
    "    \"mappings\": {\n",
    "        \"properties\": {\n",
    "            \"text\": {\"type\": \"text\"},\n",
    "            \"section\": {\"type\": \"text\"},\n",
    "            \"question\": {\"type\": \"text\"},\n",
    "            \"course\": {\"type\": \"keyword\"} \n",
    "        }\n",
    "    }\n",
    "}"
   ]
  },
  {
   "cell_type": "code",
   "execution_count": 7,
   "id": "8992d686-1f94-42af-bfa4-a71b9be65ede",
   "metadata": {},
   "outputs": [],
   "source": [
    "index_name = \"documents_20240823_1407\""
   ]
  },
  {
   "cell_type": "code",
   "execution_count": 4,
   "id": "f2de845a-c7d1-4c9a-91d5-eebb792b44f7",
   "metadata": {},
   "outputs": [],
   "source": [
    "def elastic_search(query):\n",
    "    search_query = {\n",
    "        \"size\": 3,\n",
    "        \"query\": {\n",
    "            \"bool\": {\n",
    "                \"must\": {\n",
    "                    \"multi_match\": {\n",
    "                        \"query\": query,\n",
    "                        \"fields\": [\"question^4\", \"text\"],\n",
    "                        \"type\": \"best_fields\"\n",
    "                    }\n",
    "                }\n",
    "            }\n",
    "        }\n",
    "    }\n",
    "    response = es_client.search(index=index_name,body=search_query)\n",
    "\n",
    "    print(response)\n",
    "    \n",
    "    result_docs = []\n",
    "\n",
    "    for hit in response['hits']['hits']:\n",
    "        result_docs.append(hit['_source'])\n",
    "        \n",
    "    return result_docs"
   ]
  },
  {
   "cell_type": "code",
   "execution_count": 8,
   "id": "e0b968ca-e131-4dd4-b990-62ce008b2c99",
   "metadata": {},
   "outputs": [
    {
     "name": "stdout",
     "output_type": "stream",
     "text": [
      "{'took': 10, 'timed_out': False, '_shards': {'total': 1, 'successful': 1, 'skipped': 0, 'failed': 0}, 'hits': {'total': {'value': 72, 'relation': 'eq'}, 'max_score': 70.28618, 'hits': [{'_index': 'documents_20240823_1407', '_id': 'PYlff5EBw7avPyOweJ6p', '_score': 70.28618, '_source': {'text': 'Summer 2026.', 'section': 'General course-related questions', 'question': 'When is the next cohort?', 'course': 'llm-zoomcamp', 'document_id': 'b6fa77f3'}}, {'_index': 'documents_20240823_1407', '_id': 'V4lff5EBw7avPyOwep7m', '_score': 16.801874, '_ignored': ['text.keyword'], '_source': {'text': 'Cosine similarity is a measure used to calculate the similarity between two non-zero vectors, often used in text analysis to determine how similar two documents are based on their content. This metric computes the cosine of the angle between two vectors, which are typically word counts or TF-IDF values of the documents. The cosine similarity value ranges from -1 to 1, where 1 indicates that the vectors are identical, 0 indicates that the vectors are orthogonal (no similarity), and -1 represents completely opposite vectors.', 'section': 'Module 3: X', 'question': 'What is the cosine similarity?', 'course': 'llm-zoomcamp', 'document_id': 'ee355823'}}, {'_index': 'documents_20240823_1407', '_id': 'cIlff5EBw7avPyOwfZ4E', '_score': 16.333397, '_source': {'text': 'The error indicates that you have not changed all instances of “employee_handbook” to “homework” in your pipeline settings', 'section': 'Workshops: dlthub', 'question': 'There is an error when opening the table using dbtable = db.open_table(\"notion_pages___homework\"): FileNotFoundError: Table notion_pages___homework does not exist.Please first call db.create_table(notion_pages___homework, data)', 'course': 'llm-zoomcamp', 'document_id': '6cf805ca'}}]}}\n"
     ]
    },
    {
     "data": {
      "text/plain": [
       "[{'text': 'Summer 2026.',\n",
       "  'section': 'General course-related questions',\n",
       "  'question': 'When is the next cohort?',\n",
       "  'course': 'llm-zoomcamp',\n",
       "  'document_id': 'b6fa77f3'},\n",
       " {'text': 'Cosine similarity is a measure used to calculate the similarity between two non-zero vectors, often used in text analysis to determine how similar two documents are based on their content. This metric computes the cosine of the angle between two vectors, which are typically word counts or TF-IDF values of the documents. The cosine similarity value ranges from -1 to 1, where 1 indicates that the vectors are identical, 0 indicates that the vectors are orthogonal (no similarity), and -1 represents completely opposite vectors.',\n",
       "  'section': 'Module 3: X',\n",
       "  'question': 'What is the cosine similarity?',\n",
       "  'course': 'llm-zoomcamp',\n",
       "  'document_id': 'ee355823'},\n",
       " {'text': 'The error indicates that you have not changed all instances of “employee_handbook” to “homework” in your pipeline settings',\n",
       "  'section': 'Workshops: dlthub',\n",
       "  'question': 'There is an error when opening the table using dbtable = db.open_table(\"notion_pages___homework\"): FileNotFoundError: Table notion_pages___homework does not exist.Please first call db.create_table(notion_pages___homework, data)',\n",
       "  'course': 'llm-zoomcamp',\n",
       "  'document_id': '6cf805ca'}]"
      ]
     },
     "execution_count": 8,
     "metadata": {},
     "output_type": "execute_result"
    }
   ],
   "source": [
    "search_results = elastic_search(query)\n",
    "search_results"
   ]
  },
  {
   "cell_type": "code",
   "execution_count": null,
   "id": "f4fc9161-e668-4d39-a2e2-bfb4976ad432",
   "metadata": {},
   "outputs": [],
   "source": []
  }
 ],
 "metadata": {
  "kernelspec": {
   "display_name": "Python 3 (ipykernel)",
   "language": "python",
   "name": "python3"
  },
  "language_info": {
   "codemirror_mode": {
    "name": "ipython",
    "version": 3
   },
   "file_extension": ".py",
   "mimetype": "text/x-python",
   "name": "python",
   "nbconvert_exporter": "python",
   "pygments_lexer": "ipython3",
   "version": "3.10.13"
  }
 },
 "nbformat": 4,
 "nbformat_minor": 5
}
