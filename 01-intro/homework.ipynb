{
 "cells": [
  {
   "cell_type": "code",
   "execution_count": 1,
   "id": "47e95ce7-0ec2-4023-a300-9b26609f0681",
   "metadata": {},
   "outputs": [],
   "source": [
    "from openai import OpenAI"
   ]
  },
  {
   "cell_type": "code",
   "execution_count": 4,
   "id": "c692becd-870b-4626-a40a-7a357202d5e2",
   "metadata": {},
   "outputs": [],
   "source": [
    "client = OpenAI()"
   ]
  },
  {
   "cell_type": "code",
   "execution_count": 6,
   "id": "62ad74ed-8c6e-4870-b290-8ed9d570ac0a",
   "metadata": {},
   "outputs": [],
   "source": [
    "response = client.chat.completions.create(model='gpt-4o', messages=[{\"role\":\"user\",\"content\":\"is too late to join the course?\"}])"
   ]
  },
  {
   "cell_type": "code",
   "execution_count": 8,
   "id": "f5e8d201-3275-4e54-909e-8eb4af1e624d",
   "metadata": {},
   "outputs": [
    {
     "data": {
      "text/plain": [
       "\"It's never too late to consider joining a course, but there are a few factors you might want to consider:\\n\\n1. **Course Deadlines**: Check if the enrollment period is still open. Some courses have strict deadlines for registration.\\n2. **Course Progress**: If the course has already started, determine how much material you have missed and whether you can catch up.\\n3. **Instructor Policies**: Some instructors allow late enrollments and may offer resources to help latecomers catch up, while others may not.\\n4. **Workload**: Assess your current schedule and commitments to see if you can handle the additional workload.\\n5. **Support**: Look for available support resources such as tutoring, discussion forums, or study groups that can help you if you join late.\\n\\nIf you have specific details about the course you're considering, such as the name of the course, the institution offering it, or the start date, you might be able to get more tailored advice by contacting the course administrators directly.\""
      ]
     },
     "execution_count": 8,
     "metadata": {},
     "output_type": "execute_result"
    }
   ],
   "source": [
    "response.choices[0].message.content"
   ]
  },
  {
   "cell_type": "code",
   "execution_count": null,
   "id": "7afed545-f87a-4c10-8dd2-9a52d505f905",
   "metadata": {},
   "outputs": [],
   "source": []
  }
 ],
 "metadata": {
  "kernelspec": {
   "display_name": "Python 3 (ipykernel)",
   "language": "python",
   "name": "python3"
  },
  "language_info": {
   "codemirror_mode": {
    "name": "ipython",
    "version": 3
   },
   "file_extension": ".py",
   "mimetype": "text/x-python",
   "name": "python",
   "nbconvert_exporter": "python",
   "pygments_lexer": "ipython3",
   "version": "3.10.13"
  }
 },
 "nbformat": 4,
 "nbformat_minor": 5
}
